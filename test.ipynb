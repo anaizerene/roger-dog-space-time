**_Setting up your Azure environment_**
</br>

# After selecting an appropriate kernel, which in this case would be Python 3.8 - Azure ML2, type in the following code in the notebook shell:
</br>
import tensorflow as tf
print("TensorFlow Version: " + tf.__version__)
  </br>
# You will get an error message after entering with code. However, you can ignore this because it pertains to GPU. You are using CPU.
